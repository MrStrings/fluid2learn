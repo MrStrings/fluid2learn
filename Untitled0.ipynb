{
 "metadata": {
  "name": "",
  "signature": "sha256:62392ca3750512273c4fd72cf7c6e14f0218584dc77582879a565cca74d4fc6a"
 },
 "nbformat": 3,
 "nbformat_minor": 0,
 "worksheets": [
  {
   "cells": [
    {
     "cell_type": "code",
     "collapsed": false,
     "input": [
      "print hello world"
     ],
     "language": "python",
     "metadata": {},
     "outputs": []
    }
   ],
   "metadata": {}
  }
 ]
}